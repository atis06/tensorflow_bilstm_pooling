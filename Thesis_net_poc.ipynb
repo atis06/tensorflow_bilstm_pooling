{
  "nbformat": 4,
  "nbformat_minor": 0,
  "metadata": {
    "colab": {
      "name": "Thesis_net_poc.ipynb",
      "provenance": [],
      "collapsed_sections": [],
      "authorship_tag": "ABX9TyOUhgxxUq3oKzDTyglbnUFs",
      "include_colab_link": true
    },
    "kernelspec": {
      "name": "python3",
      "display_name": "Python 3"
    },
    "accelerator": "GPU"
  },
  "cells": [
    {
      "cell_type": "markdown",
      "metadata": {
        "id": "view-in-github",
        "colab_type": "text"
      },
      "source": [
        "<a href=\"https://colab.research.google.com/github/atis06/tensorflow_bilstm_pooling/blob/master/Thesis_net_poc.ipynb\" target=\"_parent\"><img src=\"https://colab.research.google.com/assets/colab-badge.svg\" alt=\"Open In Colab\"/></a>"
      ]
    },
    {
      "cell_type": "code",
      "metadata": {
        "id": "RDaWthyR4EE2",
        "colab_type": "code",
        "outputId": "54cf9d58-1611-4c7f-bd92-bfccd6b53e2b",
        "colab": {
          "base_uri": "https://localhost:8080/",
          "height": 289
        }
      },
      "source": [
        "!wget https://github.com/amirziai/cse6242-project/raw/master/resources/datasets/bbc-text.csv"
      ],
      "execution_count": 1,
      "outputs": [
        {
          "output_type": "stream",
          "text": [
            "--2020-02-13 14:43:30--  https://github.com/amirziai/cse6242-project/raw/master/resources/datasets/bbc-text.csv\n",
            "Resolving github.com (github.com)... 140.82.118.3\n",
            "Connecting to github.com (github.com)|140.82.118.3|:443... connected.\n",
            "HTTP request sent, awaiting response... 302 Found\n",
            "Location: https://raw.githubusercontent.com/amirziai/cse6242-project/master/resources/datasets/bbc-text.csv [following]\n",
            "--2020-02-13 14:43:31--  https://raw.githubusercontent.com/amirziai/cse6242-project/master/resources/datasets/bbc-text.csv\n",
            "Resolving raw.githubusercontent.com (raw.githubusercontent.com)... 151.101.0.133, 151.101.64.133, 151.101.128.133, ...\n",
            "Connecting to raw.githubusercontent.com (raw.githubusercontent.com)|151.101.0.133|:443... connected.\n",
            "HTTP request sent, awaiting response... 200 OK\n",
            "Length: 5057493 (4.8M) [text/plain]\n",
            "Saving to: ‘bbc-text.csv’\n",
            "\n",
            "\rbbc-text.csv          0%[                    ]       0  --.-KB/s               \rbbc-text.csv        100%[===================>]   4.82M  --.-KB/s    in 0.04s   \n",
            "\n",
            "2020-02-13 14:43:31 (124 MB/s) - ‘bbc-text.csv’ saved [5057493/5057493]\n",
            "\n"
          ],
          "name": "stdout"
        }
      ]
    },
    {
      "cell_type": "code",
      "metadata": {
        "id": "KeH68YGY37hd",
        "colab_type": "code",
        "outputId": "633c5723-2dbd-42bd-ffc8-0e578db8fe44",
        "colab": {
          "base_uri": "https://localhost:8080/",
          "height": 168
        }
      },
      "source": [
        "\n",
        "\n",
        "import csv\n",
        "import tensorflow as tf\n",
        "import numpy as np\n",
        "import sklearn\n",
        "import nltk\n",
        "from tensorflow.keras.preprocessing.text import Tokenizer\n",
        "from tensorflow.keras.preprocessing.sequence import pad_sequences\n",
        "from nltk.corpus import stopwords\n",
        "\n",
        "nltk.download('stopwords')\n",
        "STOPWORDS = set(stopwords.words('english'))\n",
        "\n",
        "print(tf.__version__)\n",
        "\n",
        "vocab_size = 5000\n",
        "embedding_dim = 64\n",
        "max_length = 200\n",
        "trunc_type = 'post'\n",
        "padding_type = 'post'\n",
        "oov_tok = 'OOV'\n",
        "training_portion = .8\n",
        "\n",
        "articles = []\n",
        "labels = []\n",
        "\n",
        "with open(\"bbc-text.csv\", 'r') as csvfile:\n",
        "    reader = csv.reader(csvfile, delimiter=',')\n",
        "    next(reader)\n",
        "    for row in reader:\n",
        "        labels.append(row[0])\n",
        "        article = row[1]\n",
        "        for word in STOPWORDS:\n",
        "            token = ' ' + word + ' '\n",
        "            article = article.replace(token, ' ')\n",
        "            article = article.replace(' ', ' ')\n",
        "        articles.append(article)\n",
        "\n",
        "train_size = int(len(articles) * training_portion)\n",
        "\n",
        "train_articles = articles[0: train_size]\n",
        "train_labels = labels[0: train_size]\n",
        "\n",
        "validation_articles = articles[train_size:]\n",
        "validation_labels = labels[train_size:]\n",
        "\n",
        "tokenizer = Tokenizer(num_words=vocab_size, oov_token=oov_tok)\n",
        "tokenizer.fit_on_texts(train_articles)\n",
        "word_index = tokenizer.word_index\n",
        "dict(list(word_index.items())[0:10])\n",
        "\n",
        "\n",
        "\n",
        "train_sequences = tokenizer.texts_to_sequences(train_articles)\n",
        "train_padded = pad_sequences(train_sequences, maxlen=max_length, padding=padding_type, truncating=trunc_type)\n",
        "\n",
        "validation_sequences = tokenizer.texts_to_sequences(validation_articles)\n",
        "validation_padded = pad_sequences(validation_sequences, maxlen=max_length, padding=padding_type, truncating=trunc_type)\n",
        "\n",
        "label_tokenizer = Tokenizer()\n",
        "label_tokenizer.fit_on_texts(labels)\n",
        "\n",
        "training_label_seq = np.array(label_tokenizer.texts_to_sequences(train_labels))\n",
        "validation_label_seq = np.array(label_tokenizer.texts_to_sequences(validation_labels))\n",
        "\n",
        "reverse_word_index = dict([(value, key) for (key, value) in word_index.items()])\n",
        "\n",
        "def decode_article(text):\n",
        "    return ' '.join([reverse_word_index.get(i, '?') for i in text])\n",
        "\n",
        "print(decode_article(train_sequences[1]))\n",
        "print(decode_article(train_padded[1]))\n"
      ],
      "execution_count": 2,
      "outputs": [
        {
          "output_type": "display_data",
          "data": {
            "text/html": [
              "<p style=\"color: red;\">\n",
              "The default version of TensorFlow in Colab will soon switch to TensorFlow 2.x.<br>\n",
              "We recommend you <a href=\"https://www.tensorflow.org/guide/migrate\" target=\"_blank\">upgrade</a> now \n",
              "or ensure your notebook will continue to use TensorFlow 1.x via the <code>%tensorflow_version 1.x</code> magic:\n",
              "<a href=\"https://colab.research.google.com/notebooks/tensorflow_version.ipynb\" target=\"_blank\">more info</a>.</p>\n"
            ],
            "text/plain": [
              "<IPython.core.display.HTML object>"
            ]
          },
          "metadata": {
            "tags": []
          }
        },
        {
          "output_type": "stream",
          "text": [
            "[nltk_data] Downloading package stopwords to /root/nltk_data...\n",
            "[nltk_data]   Unzipping corpora/stopwords.zip.\n",
            "1.15.0\n",
            "worldcom boss left books alone former worldcom boss OOV ebbers accused OOV OOV £5 8bn fraud never made accounting decisions witness told jurors david OOV made comments questioning defence lawyers arguing mr ebbers responsible worldcom problems phone company collapsed 2002 prosecutors claim losses hidden protect firm shares mr OOV already pleaded guilty fraud OOV prosecutors monday defence lawyer OOV OOV tried distance client allegations cross OOV asked mr OOV ever knew mr ebbers make accounting decision aware mr OOV replied ever know mr ebbers make accounting entry worldcom books mr OOV OOV replied witness mr OOV admitted ordered false accounting entries request former worldcom chief financial officer scott sullivan defence lawyers trying OOV mr sullivan admitted fraud OOV later trial OOV behind worldcom accounting house cards mr ebbers team meanwhile looking OOV OOV boss OOV OOV OOV economist whatever OOV mr ebbers OOV worldcom OOV unknown OOV telecoms giant investor OOV late 1990s worldcom problems OOV however competition increased telecoms boom OOV out firm finally collapsed shareholders lost OOV 20 000 workers lost jobs mr ebbers trial expected last two months found guilty former OOV faces substantial jail sentence firmly declared OOV\n",
            "worldcom boss left books alone former worldcom boss OOV ebbers accused OOV OOV £5 8bn fraud never made accounting decisions witness told jurors david OOV made comments questioning defence lawyers arguing mr ebbers responsible worldcom problems phone company collapsed 2002 prosecutors claim losses hidden protect firm shares mr OOV already pleaded guilty fraud OOV prosecutors monday defence lawyer OOV OOV tried distance client allegations cross OOV asked mr OOV ever knew mr ebbers make accounting decision aware mr OOV replied ever know mr ebbers make accounting entry worldcom books mr OOV OOV replied witness mr OOV admitted ordered false accounting entries request former worldcom chief financial officer scott sullivan defence lawyers trying OOV mr sullivan admitted fraud OOV later trial OOV behind worldcom accounting house cards mr ebbers team meanwhile looking OOV OOV boss OOV OOV OOV economist whatever OOV mr ebbers OOV worldcom OOV unknown OOV telecoms giant investor OOV late 1990s worldcom problems OOV however competition increased telecoms boom OOV out firm finally collapsed shareholders lost OOV 20 000 workers lost jobs mr ebbers trial expected last two months found guilty former OOV faces substantial jail sentence firmly declared OOV ? ? ? ? ? ? ? ?\n"
          ],
          "name": "stdout"
        }
      ]
    },
    {
      "cell_type": "code",
      "metadata": {
        "id": "_cvnPLDe16hK",
        "colab_type": "code",
        "colab": {}
      },
      "source": [
        "#W2V\n",
        "w2v_dim=300\n",
        "import gensim\n",
        "splitted_articles=[article.split() for article in articles]\n",
        "model = gensim.models.Word2Vec(iter=5, size=w2v_dim, workers=4,min_count=0) \n",
        "model.build_vocab(splitted_articles)\n",
        "model.train(splitted_articles, total_examples=len(splitted_articles), epochs = 15)\n",
        "\n",
        "vocabulary_size = len(model.wv.vocab)\n"
      ],
      "execution_count": 0,
      "outputs": []
    },
    {
      "cell_type": "code",
      "metadata": {
        "id": "RJU0hnX1rtvl",
        "colab_type": "code",
        "colab": {}
      },
      "source": [
        "train_articles_w2v = []\n",
        "\n",
        "for row in train_padded:\n",
        "  w2v_sentence = []\n",
        "  for word in enumerate(decode_article(row).split()):\n",
        "    try:\n",
        "      w2v_sentence.append(np.asarray(model.wv[word[1]]))\n",
        "    except Exception as e:\n",
        "      w2v_sentence.append(np.asarray(np.zeros(300)))\n",
        "  train_articles_w2v.append(np.asarray(w2v_sentence))\n",
        "\n",
        "#train_articles_w2v = np.asarray([elem[0:200] for elem in train_articles_w2v])"
      ],
      "execution_count": 0,
      "outputs": []
    },
    {
      "cell_type": "code",
      "metadata": {
        "id": "K8c30WJX6ArF",
        "colab_type": "code",
        "colab": {
          "base_uri": "https://localhost:8080/",
          "height": 1000
        },
        "outputId": "02e76852-f662-49f1-d9cb-76f1bc805faf"
      },
      "source": [
        "def next_batch(batch_size):\n",
        "    idx = np.arange(0, len(train_articles_w2v))\n",
        "    np.random.shuffle(idx)\n",
        "    idx = idx[0:batch_size]\n",
        "    data_shuffle = [train_articles_w2v[i] for i in idx]\n",
        "    labels_shuffle = [training_label_seq[i] for i in idx]\n",
        "\n",
        "    return np.asarray(data_shuffle), np.asarray(labels_shuffle)\n",
        "\n",
        "\n",
        "X_batch, y_batch = next_batch(40)\n",
        "print(X_batch)"
      ],
      "execution_count": 5,
      "outputs": [
        {
          "output_type": "stream",
          "text": [
            "[[[ 8.91309559e-01  4.03924932e-04  1.22675800e+00 ...  8.41239810e-01\n",
            "    6.06667757e-01  1.00406539e+00]\n",
            "  [ 7.24833980e-02 -1.47472218e-01  2.92751521e-01 ... -3.52784456e-03\n",
            "    2.27301598e-01  5.89976683e-02]\n",
            "  [ 2.49580190e-01  3.18009295e-02  3.29827040e-01 ... -2.73619205e-01\n",
            "    2.76257426e-01  6.23524487e-02]\n",
            "  ...\n",
            "  [ 3.39883156e-02 -1.29771209e+00 -5.01711130e-01 ... -8.84254754e-01\n",
            "    6.16005838e-01 -4.47692156e-01]\n",
            "  [-1.20694591e-02 -4.75052536e-01  2.94093322e-02 ... -1.94932833e-01\n",
            "    2.02572569e-01 -1.43977955e-01]\n",
            "  [ 1.17282802e-02 -7.23302126e-01  6.68371916e-02 ... -3.87277082e-02\n",
            "    1.97533026e-01 -1.27246559e-01]]\n",
            "\n",
            " [[ 1.12251945e-01  4.09294665e-02  6.63353875e-02 ...  6.90737367e-02\n",
            "    1.81863382e-01 -2.87308451e-03]\n",
            "  [ 6.70194253e-02 -5.99496849e-02 -4.31537598e-01 ...  2.48374403e-01\n",
            "    7.60939896e-01  1.29365493e-02]\n",
            "  [ 0.00000000e+00  0.00000000e+00  0.00000000e+00 ...  0.00000000e+00\n",
            "    0.00000000e+00  0.00000000e+00]\n",
            "  ...\n",
            "  [ 0.00000000e+00  0.00000000e+00  0.00000000e+00 ...  0.00000000e+00\n",
            "    0.00000000e+00  0.00000000e+00]\n",
            "  [ 0.00000000e+00  0.00000000e+00  0.00000000e+00 ...  0.00000000e+00\n",
            "    0.00000000e+00  0.00000000e+00]\n",
            "  [ 0.00000000e+00  0.00000000e+00  0.00000000e+00 ...  0.00000000e+00\n",
            "    0.00000000e+00  0.00000000e+00]]\n",
            "\n",
            " [[ 1.94508627e-01  1.57614186e-01 -2.21344363e-02 ...  2.14133695e-01\n",
            "    4.76233572e-01 -1.27676785e-01]\n",
            "  [ 1.28624216e-01 -9.88305267e-03  3.56011212e-01 ... -2.60676891e-01\n",
            "    1.97059155e-01 -4.40287702e-02]\n",
            "  [ 2.11544946e-01 -2.24571839e-01  5.81620991e-01 ... -2.93561101e-01\n",
            "   -5.50815044e-03 -5.69847301e-02]\n",
            "  ...\n",
            "  [ 0.00000000e+00  0.00000000e+00  0.00000000e+00 ...  0.00000000e+00\n",
            "    0.00000000e+00  0.00000000e+00]\n",
            "  [ 0.00000000e+00  0.00000000e+00  0.00000000e+00 ...  0.00000000e+00\n",
            "    0.00000000e+00  0.00000000e+00]\n",
            "  [ 0.00000000e+00  0.00000000e+00  0.00000000e+00 ...  0.00000000e+00\n",
            "    0.00000000e+00  0.00000000e+00]]\n",
            "\n",
            " ...\n",
            "\n",
            " [[ 3.76485795e-01  4.93439473e-02  2.89679110e-01 ...  1.53273329e-01\n",
            "    3.17754596e-01  5.55429459e-02]\n",
            "  [ 1.29283398e-01  5.73575385e-02  2.08907910e-02 ...  1.22362427e-01\n",
            "    3.57405394e-01 -5.20589240e-02]\n",
            "  [ 4.89324331e-01  6.15007937e-01 -4.36478138e-01 ...  6.84852958e-01\n",
            "    6.86652303e-01 -2.77501017e-01]\n",
            "  ...\n",
            "  [ 4.10464734e-01 -4.13845778e-01  7.65777230e-01 ... -3.73462081e-01\n",
            "    1.11987002e-01  1.48832873e-01]\n",
            "  [-2.91529130e-02 -3.88197899e-02  8.49198177e-02 ... -4.15610485e-02\n",
            "    2.97905833e-01 -2.01508135e-01]\n",
            "  [-1.61772490e+00 -1.09370589e+00 -7.96426237e-01 ... -1.81719923e+00\n",
            "    7.03915119e-01 -9.10796583e-01]]\n",
            "\n",
            " [[ 8.56464356e-03 -7.21403182e-01  1.02571440e+00 ...  3.77337426e-01\n",
            "    5.64014673e-01 -8.42500925e-02]\n",
            "  [ 1.95557937e-01 -7.78893754e-02  1.44957781e-01 ... -3.28413732e-02\n",
            "    2.45025918e-01  5.58286011e-02]\n",
            "  [ 2.19238132e-01  3.38822231e-02  2.45458856e-01 ...  4.11571339e-02\n",
            "    3.50574255e-01  1.03539124e-01]\n",
            "  ...\n",
            "  [ 0.00000000e+00  0.00000000e+00  0.00000000e+00 ...  0.00000000e+00\n",
            "    0.00000000e+00  0.00000000e+00]\n",
            "  [ 0.00000000e+00  0.00000000e+00  0.00000000e+00 ...  0.00000000e+00\n",
            "    0.00000000e+00  0.00000000e+00]\n",
            "  [ 0.00000000e+00  0.00000000e+00  0.00000000e+00 ...  0.00000000e+00\n",
            "    0.00000000e+00  0.00000000e+00]]\n",
            "\n",
            " [[ 2.67788500e-01 -3.33763897e-01  3.88128757e-01 ... -4.17130440e-02\n",
            "    1.47482246e-01  2.09765002e-01]\n",
            "  [ 6.59606516e-01  6.76161721e-02  7.20213115e-01 ... -1.20769762e-01\n",
            "    1.43013103e-03  4.80117649e-02]\n",
            "  [ 3.34036857e-01  2.30268851e-01  6.63316667e-01 ... -3.42904478e-02\n",
            "    3.72901976e-01  1.50205828e-02]\n",
            "  ...\n",
            "  [ 0.00000000e+00  0.00000000e+00  0.00000000e+00 ...  0.00000000e+00\n",
            "    0.00000000e+00  0.00000000e+00]\n",
            "  [ 0.00000000e+00  0.00000000e+00  0.00000000e+00 ...  0.00000000e+00\n",
            "    0.00000000e+00  0.00000000e+00]\n",
            "  [ 0.00000000e+00  0.00000000e+00  0.00000000e+00 ...  0.00000000e+00\n",
            "    0.00000000e+00  0.00000000e+00]]]\n"
          ],
          "name": "stdout"
        }
      ]
    },
    {
      "cell_type": "code",
      "metadata": {
        "id": "GARqFrnl_xDh",
        "colab_type": "code",
        "colab": {}
      },
      "source": [
        "validation_articles_w2v = []\n",
        "\n",
        "for row in validation_padded:\n",
        "  w2v_sentence = []\n",
        "  for word in enumerate(decode_article(row).split()):\n",
        "    try:\n",
        "      w2v_sentence.append(np.asarray(model.wv[word[1]]))\n",
        "    except Exception as e:\n",
        "      w2v_sentence.append(np.asarray(np.zeros(300)))\n",
        "  validation_articles_w2v.append(np.asarray(w2v_sentence))\n",
        "\n",
        "#train_articles_w2v = np.asarray([elem[0:200] for elem in train_articles_w2v])"
      ],
      "execution_count": 0,
      "outputs": []
    },
    {
      "cell_type": "code",
      "metadata": {
        "id": "L9cQa6S-E8PC",
        "colab_type": "code",
        "colab": {}
      },
      "source": [
        "def print_shape(varname, var):\n",
        "  with tf.Session() as sess:\n",
        "    \"\"\"\n",
        "    :param varname: tensor name\n",
        "    :param var: tensor variable\n",
        "    \"\"\"\n",
        "    print('{0} : {1}'.format(varname, tf.shape(var, name=None)))"
      ],
      "execution_count": 0,
      "outputs": []
    },
    {
      "cell_type": "code",
      "metadata": {
        "id": "G9R-yMd04Miq",
        "colab_type": "code",
        "outputId": "3329a85c-4341-4082-9557-25ce4b5682fc",
        "colab": {
          "base_uri": "https://localhost:8080/",
          "height": 119
        }
      },
      "source": [
        "######################################################################\n",
        "\n",
        "\n",
        "import tensorflow as tf\n",
        "\n",
        "from tensorflow.keras.layers import LSTMCell, Bidirectional\n",
        "\n",
        "# Just one feature, the time series\n",
        "num_inputs = 300\n",
        "# Num of steps in each batch\n",
        "num_time_steps = 200\n",
        "# 100 neuron layer, play with this\n",
        "num_hidden = 200\n",
        "# learning rate you can play with this\n",
        "learning_rate = 0.001\n",
        "# how many iterations to go through (training steps), you can play with this\n",
        "epochs = 200\n",
        "# Size of the batch of data\n",
        "batch_size = 100\n",
        "n_classes = 5\n",
        "\n",
        "'''with tf.Session() as sess:\n",
        "    print(tf.one_hot(y_batch, n_classes,\n",
        "                     axis=-1).eval())'''\n",
        "\n",
        "\n",
        "def RNN(x, weights, biases, timesteps, num_hidden):\n",
        "    x = tf.unstack(x, timesteps, 1)\n",
        "    rnn_cell = tf.contrib.rnn.BasicRNNCell(num_hidden)\n",
        "    states_series, current_state = tf.contrib.rnn.static_rnn(rnn_cell, x, dtype=tf.float32)\n",
        "    return tf.matmul(states_series[-1], weights) + biases\n",
        "\n",
        "def BiRNN(x, weights, biases, timesteps, num_hidden):\n",
        "\n",
        "    #x = tf.unstack(x, timesteps, 1)\n",
        "    lstm_fw_cell = tf.contrib.rnn.BasicLSTMCell(num_hidden, forget_bias=1.0)\n",
        "    lstm_bw_cell = tf.contrib.rnn.BasicLSTMCell(num_hidden, forget_bias=1.0)\n",
        "    outputs, _ = tf.nn.bidirectional_dynamic_rnn(lstm_fw_cell, lstm_bw_cell, x,\n",
        "                                                 dtype=tf.float32)\n",
        "\n",
        "    output_rnn=tf.concat(outputs,axis=2) #[batch_size,sequence_length,hidden_size*2]\n",
        "    output_rnn_last=tf.reduce_max(output_rnn,axis=1) #[batch_size,hidden_size*2] # this is average pooling\n",
        "    #output_rnn_last=output_rnn[:,-1,:] ##[batch_size,hidden_size*2] # this uses the last hidden state as the representation.\n",
        "    print(\"output_rnn_last:\", output_rnn_last)\n",
        "    return tf.matmul(output_rnn_last, weights) + biases\n",
        "\n",
        "tf.compat.v1.reset_default_graph()\n",
        "X = tf.placeholder(tf.float32, [None, num_time_steps, num_inputs])\n",
        "y = tf.placeholder(tf.float32, [None, n_classes])\n",
        "\n",
        "W = tf.Variable(tf.random_normal(shape=[2*num_hidden, n_classes]))\n",
        "b = tf.Variable(tf.zeros([n_classes]))\n",
        "\n",
        "output_logits = BiRNN(X, W, b, num_time_steps, num_hidden)\n",
        "y_pred = tf.nn.softmax(output_logits)\n",
        "\n",
        "cls_prediction = tf.argmax(output_logits, axis=1, name='predictions')\n",
        "\n",
        "\n",
        "loss = tf.reduce_mean(tf.nn.softmax_cross_entropy_with_logits(labels=y, logits=output_logits))\n",
        "optimizer = tf.train.AdamOptimizer(learning_rate=learning_rate).minimize(loss)\n",
        "correct_prediction = tf.equal(tf.argmax(output_logits, 1), tf.argmax(y, 1))\n",
        "accuracy = tf.reduce_mean(tf.cast(correct_prediction, tf.float32))\n",
        "\n",
        "init = tf.global_variables_initializer()\n",
        "\n",
        "with tf.Session() as sess:\n",
        "    sess.run(init)\n",
        "    for epoch in range(epochs):\n",
        "          X_batch, y_batch = next_batch(batch_size)\n",
        "          X_batch = X_batch.reshape((batch_size, num_time_steps, num_inputs))\n",
        "          y_batch = tf.one_hot(y_batch-1, n_classes, axis=-1).eval().reshape(-1, n_classes)\n",
        "\n",
        "          sess.run(optimizer, feed_dict={X: X_batch, y: y_batch})\n",
        "          if epoch % 100 == 0:\n",
        "              mse = loss.eval(feed_dict={X: X_batch, y: y_batch})\n",
        "              print(epoch, \"\\tMSE:\", mse)\n",
        "\n",
        "\n",
        "    X_batch_valid = np.asarray(validation_articles_w2v).reshape((len(validation_articles_w2v), num_time_steps, num_inputs))\n",
        "    y_batch_valid = tf.one_hot(validation_label_seq-1, n_classes, axis=-1).eval().reshape(-1, n_classes)\n",
        "\n",
        "    feed_dict_valid = {X: X_batch_valid, y: y_batch_valid}\n",
        "\n",
        "    loss_valid, acc_valid = sess.run([loss, accuracy], feed_dict=feed_dict_valid)\n",
        "    print('---------------------------------------------------------')\n",
        "    print(\"Epoch: {0}, validation loss: {1:.2f}, validation accuracy: {2:.01%}\".\n",
        "          format(epoch + 1, loss_valid, acc_valid))\n",
        "    print('---------------------------------------------------------')\n",
        "\n",
        "\n",
        "    '''y_pred = sess.run(cls_prediction, feed_dict={X: X_batch_valid[0].reshape(-1,num_time_steps, num_inputs)})\n",
        "    print(y_pred)\n",
        "    index = tf.argmax(y_pred, axis=0).eval()\n",
        "    print(index, y_batch_valid[0])'''\n"
      ],
      "execution_count": 15,
      "outputs": [
        {
          "output_type": "stream",
          "text": [
            "output_rnn_last: Tensor(\"Max:0\", shape=(?, 400), dtype=float32)\n",
            "0 \tMSE: 5.3115883\n",
            "100 \tMSE: 0.018228248\n",
            "---------------------------------------------------------\n",
            "Epoch: 200, validation loss: 0.15, validation accuracy: 96.6%\n",
            "---------------------------------------------------------\n"
          ],
          "name": "stdout"
        }
      ]
    },
    {
      "cell_type": "code",
      "metadata": {
        "colab_type": "code",
        "id": "VpCSQ5SDMI3v",
        "colab": {}
      },
      "source": [
        "'''model = tf.keras.Sequential([\n",
        "    # Add an Embedding layer expecting input vocab of size 5000, and output embedding dimension of size 64 we set at the top\n",
        "    tf.keras.layers.Embedding(vocab_size, embedding_dim),\n",
        "    tf.keras.layers.Bidirectional(tf.keras.layers.LSTM(embedding_dim)),\n",
        "#    tf.keras.layers.Bidirectional(tf.keras.layers.LSTM(32)),\n",
        "    # use ReLU in place of tanh function since they are very good alternatives of each other.\n",
        "    tf.keras.layers.Dense(embedding_dim, activation='relu'),\n",
        "    # Add a Dense layer with 6 units and softmax activation.\n",
        "    # When we have multiple outputs, softmax convert outputs layers into a probability distribution.\n",
        "    tf.keras.layers.Dense(6, activation='softmax')\n",
        "])\n",
        "model.summary()\n",
        "\n",
        "model.compile(loss='sparse_categorical_crossentropy', optimizer='adam', metrics=['accuracy'])\n",
        "num_epochs = 10\n",
        "history = model.fit(train_padded, training_label_seq, epochs=num_epochs, validation_data=(validation_padded, validation_label_seq), verbose=2)"
      ],
      "execution_count": 0,
      "outputs": []
    }
  ]
}